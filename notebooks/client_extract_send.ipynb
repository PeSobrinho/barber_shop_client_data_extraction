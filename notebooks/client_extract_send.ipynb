{
 "cells": [
  {
   "cell_type": "markdown",
   "metadata": {},
   "source": [
    "# Envio de dados para clientes\n",
    "\n",
    "Com base em projetos anteriores (ver: https://pe-sobrinho-barber-shop-report.onrender.com/), pode-se a barbearia não tem uma avaliação muito boa...\n",
    "\n",
    "Por isso, nesse projeto, vamos simular contato com os 5 clientes mais insatisfeitos da barbearia. Vamos enviar uma mensagem para o e-mail cadastrado na base, convidando-os a dar mais detalhes sobre sua experiência com a barbearia."
   ]
  },
  {
   "cell_type": "code",
   "execution_count": 12,
   "metadata": {},
   "outputs": [],
   "source": [
    "import psycopg2\n",
    "from sqlalchemy import create_engine\n",
    "\n",
    "user = input('user: ')\n",
    "password = input('password: ')\n",
    "\n",
    "user = user\n",
    "password = password\n",
    "host = 'capably-replete-rudd.data-1.use1.tembo.io'\n",
    "port = '5432'\n",
    "database = 'barber_shop'\n",
    "\n",
    "engine = create_engine(f'postgresql+psycopg2://{user}:{password}@{host}:{port}/{database}')"
   ]
  },
  {
   "cell_type": "code",
   "execution_count": 13,
   "metadata": {},
   "outputs": [],
   "source": [
    "import pandas as pd\n",
    "\n",
    "with open('../sql/clientes_insatisfeitos.sql', 'r') as file:\n",
    "    query = file.read()\n",
    "\n",
    "clients_data = pd.read_sql(query, engine)"
   ]
  },
  {
   "cell_type": "code",
   "execution_count": 14,
   "metadata": {},
   "outputs": [
    {
     "data": {
      "text/html": [
       "<div>\n",
       "<style scoped>\n",
       "    .dataframe tbody tr th:only-of-type {\n",
       "        vertical-align: middle;\n",
       "    }\n",
       "\n",
       "    .dataframe tbody tr th {\n",
       "        vertical-align: top;\n",
       "    }\n",
       "\n",
       "    .dataframe thead th {\n",
       "        text-align: right;\n",
       "    }\n",
       "</style>\n",
       "<table border=\"1\" class=\"dataframe\">\n",
       "  <thead>\n",
       "    <tr style=\"text-align: right;\">\n",
       "      <th></th>\n",
       "      <th>nm_cliente</th>\n",
       "      <th>email_ficticio</th>\n",
       "      <th>media_av</th>\n",
       "    </tr>\n",
       "  </thead>\n",
       "  <tbody>\n",
       "    <tr>\n",
       "      <th>0</th>\n",
       "      <td>Eloah Moura</td>\n",
       "      <td>eloah.moura@fakemail.com</td>\n",
       "      <td>2.0</td>\n",
       "    </tr>\n",
       "    <tr>\n",
       "      <th>1</th>\n",
       "      <td>Pietro Nogueira</td>\n",
       "      <td>pietro.nogueira@fakemail.com</td>\n",
       "      <td>2.0</td>\n",
       "    </tr>\n",
       "    <tr>\n",
       "      <th>2</th>\n",
       "      <td>Vitor Peixoto</td>\n",
       "      <td>vitor.peixoto@fakemail.com</td>\n",
       "      <td>2.0</td>\n",
       "    </tr>\n",
       "    <tr>\n",
       "      <th>3</th>\n",
       "      <td>Theo das Neves</td>\n",
       "      <td>theo.das@fakemail.com</td>\n",
       "      <td>2.0</td>\n",
       "    </tr>\n",
       "    <tr>\n",
       "      <th>4</th>\n",
       "      <td>Gabriel Souza</td>\n",
       "      <td>gabriel.souza@fakemail.com</td>\n",
       "      <td>2.0</td>\n",
       "    </tr>\n",
       "  </tbody>\n",
       "</table>\n",
       "</div>"
      ],
      "text/plain": [
       "        nm_cliente                email_ficticio  media_av\n",
       "0      Eloah Moura      eloah.moura@fakemail.com       2.0\n",
       "1  Pietro Nogueira  pietro.nogueira@fakemail.com       2.0\n",
       "2    Vitor Peixoto    vitor.peixoto@fakemail.com       2.0\n",
       "3   Theo das Neves         theo.das@fakemail.com       2.0\n",
       "4    Gabriel Souza    gabriel.souza@fakemail.com       2.0"
      ]
     },
     "execution_count": 14,
     "metadata": {},
     "output_type": "execute_result"
    }
   ],
   "source": [
    "clients_data"
   ]
  },
  {
   "cell_type": "code",
   "execution_count": 22,
   "metadata": {},
   "outputs": [],
   "source": [
    "def send_email(sendgrid_api_key, client, client_email):    \n",
    "\n",
    "    with open('../configs/layout_email.html', 'r') as file:\n",
    "        email_body = file.read()\n",
    "\n",
    "    # Configurar o e-mail\n",
    "    message = Mail(\n",
    "        from_email = input('key: '),  # E-mail do remetente\n",
    "        to_emails = client_email,  # E-mail do destinatário\n",
    "        subject = 'Vamos conversar?',  # Assunto do e-mail\n",
    "        html_content = email_body.format(nome = client)  # Corpo do e-mail (pode ser texto simples)\n",
    "    )\n",
    "\n",
    "    message.bcc = input('key: ') #e-mail cópia oculta\n",
    "\n",
    "    # Enviar o e-mail\n",
    "    try:\n",
    "        sg = SendGridAPIClient(sendgrid_api_key)\n",
    "        response = sg.send(message)\n",
    "        print('E-mail enviado com sucesso!')\n",
    "        print('Status Code:', response.status_code)\n",
    "        print('Resposta:', response.body)\n",
    "        print(f'E-mail enviado para: {client} ({client_email})')\n",
    "    except Exception as e:\n",
    "        print(\"Erro ao enviar o e-mail:\", str(e))"
   ]
  },
  {
   "cell_type": "code",
   "execution_count": 23,
   "metadata": {},
   "outputs": [
    {
     "name": "stdout",
     "output_type": "stream",
     "text": [
      "E-mail enviado com sucesso!\n",
      "Status Code: 202\n",
      "Resposta: b''\n",
      "E-mail enviado para: Eloah Moura (eloah.moura@fakemail.com)\n",
      "E-mail enviado com sucesso!\n",
      "Status Code: 202\n",
      "Resposta: b''\n",
      "E-mail enviado para: Pietro Nogueira (pietro.nogueira@fakemail.com)\n",
      "E-mail enviado com sucesso!\n",
      "Status Code: 202\n",
      "Resposta: b''\n",
      "E-mail enviado para: Vitor Peixoto (vitor.peixoto@fakemail.com)\n",
      "E-mail enviado com sucesso!\n",
      "Status Code: 202\n",
      "Resposta: b''\n",
      "E-mail enviado para: Theo das Neves (theo.das@fakemail.com)\n",
      "E-mail enviado com sucesso!\n",
      "Status Code: 202\n",
      "Resposta: b''\n",
      "E-mail enviado para: Gabriel Souza (gabriel.souza@fakemail.com)\n"
     ]
    }
   ],
   "source": [
    "import os\n",
    "from sendgrid import SendGridAPIClient\n",
    "from sendgrid.helpers.mail import Mail\n",
    "\n",
    "sendgrid_api_key = input('key: ')\n",
    "\n",
    "for _, row in clients_data.iterrows():\n",
    "    client = row['nm_cliente']\n",
    "    client_email = row['email_ficticio']\n",
    "    send_email(sendgrid_api_key, client, client_email)"
   ]
  }
 ],
 "metadata": {
  "kernelspec": {
   "display_name": "base",
   "language": "python",
   "name": "python3"
  },
  "language_info": {
   "codemirror_mode": {
    "name": "ipython",
    "version": 3
   },
   "file_extension": ".py",
   "mimetype": "text/x-python",
   "name": "python",
   "nbconvert_exporter": "python",
   "pygments_lexer": "ipython3",
   "version": "3.10.9"
  }
 },
 "nbformat": 4,
 "nbformat_minor": 2
}
