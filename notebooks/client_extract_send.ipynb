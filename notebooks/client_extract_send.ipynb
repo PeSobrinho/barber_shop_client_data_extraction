{
 "cells": [
  {
   "cell_type": "code",
   "execution_count": 1,
   "metadata": {},
   "outputs": [],
   "source": [
    "import psycopg2\n",
    "from sqlalchemy import create_engine\n",
    "\n",
    "user = input('user: ')\n",
    "password = input('password: ')\n",
    "\n",
    "user = user\n",
    "password = password\n",
    "host = 'capably-replete-rudd.data-1.use1.tembo.io'\n",
    "port = '5432'\n",
    "database = 'barber_shop'\n",
    "\n",
    "engine = create_engine(f'postgresql+psycopg2://{user}:{password}@{host}:{port}/{database}')"
   ]
  },
  {
   "cell_type": "code",
   "execution_count": 3,
   "metadata": {},
   "outputs": [],
   "source": [
    "import pandas as pd\n",
    "\n",
    "query = '''select \n",
    "                nm_cliente\n",
    "                ,cpf_ficticio\n",
    "                ,celular_ficticio\n",
    "                ,email_ficticio\n",
    "                ,instagram_ficticio\n",
    "        from barber_shop.dw.dim_cliente'''\n",
    "\n",
    "clients_data = pd.read_sql(query, engine)"
   ]
  },
  {
   "cell_type": "code",
   "execution_count": 4,
   "metadata": {},
   "outputs": [
    {
     "data": {
      "text/html": [
       "<div>\n",
       "<style scoped>\n",
       "    .dataframe tbody tr th:only-of-type {\n",
       "        vertical-align: middle;\n",
       "    }\n",
       "\n",
       "    .dataframe tbody tr th {\n",
       "        vertical-align: top;\n",
       "    }\n",
       "\n",
       "    .dataframe thead th {\n",
       "        text-align: right;\n",
       "    }\n",
       "</style>\n",
       "<table border=\"1\" class=\"dataframe\">\n",
       "  <thead>\n",
       "    <tr style=\"text-align: right;\">\n",
       "      <th></th>\n",
       "      <th>nm_cliente</th>\n",
       "      <th>cpf_ficticio</th>\n",
       "      <th>celular_ficticio</th>\n",
       "      <th>email_ficticio</th>\n",
       "      <th>instagram_ficticio</th>\n",
       "    </tr>\n",
       "  </thead>\n",
       "  <tbody>\n",
       "    <tr>\n",
       "      <th>0</th>\n",
       "      <td>Ana Carolina Rezende</td>\n",
       "      <td>289.150.962-89</td>\n",
       "      <td>(52) 95801-4557</td>\n",
       "      <td>ana.carolina@fakemail.com</td>\n",
       "      <td>@ana.carolina</td>\n",
       "    </tr>\n",
       "    <tr>\n",
       "      <th>1</th>\n",
       "      <td>Rafaela Oliveira</td>\n",
       "      <td>759.684.359-43</td>\n",
       "      <td>(45) 91250-7290</td>\n",
       "      <td>rafaela.oliveira@fakemail.com</td>\n",
       "      <td>@rafaela.oliveira</td>\n",
       "    </tr>\n",
       "    <tr>\n",
       "      <th>2</th>\n",
       "      <td>João Miguel Castro</td>\n",
       "      <td>217.193.013-06</td>\n",
       "      <td>(43) 98001-9958</td>\n",
       "      <td>joão.miguel@fakemail.com</td>\n",
       "      <td>@joão.miguel</td>\n",
       "    </tr>\n",
       "    <tr>\n",
       "      <th>3</th>\n",
       "      <td>Emanuelly Gomes</td>\n",
       "      <td>971.550.916-32</td>\n",
       "      <td>(49) 93137-3445</td>\n",
       "      <td>emanuelly.gomes@fakemail.com</td>\n",
       "      <td>@emanuelly.gomes</td>\n",
       "    </tr>\n",
       "    <tr>\n",
       "      <th>4</th>\n",
       "      <td>Catarina Rocha</td>\n",
       "      <td>452.629.036-77</td>\n",
       "      <td>(38) 99359-9494</td>\n",
       "      <td>catarina.rocha@fakemail.com</td>\n",
       "      <td>@catarina.rocha</td>\n",
       "    </tr>\n",
       "    <tr>\n",
       "      <th>...</th>\n",
       "      <td>...</td>\n",
       "      <td>...</td>\n",
       "      <td>...</td>\n",
       "      <td>...</td>\n",
       "      <td>...</td>\n",
       "    </tr>\n",
       "    <tr>\n",
       "      <th>295</th>\n",
       "      <td>Murilo Moreira</td>\n",
       "      <td>629.212.321-61</td>\n",
       "      <td>(86) 97527-9687</td>\n",
       "      <td>murilo.moreira@fakemail.com</td>\n",
       "      <td>@murilo.moreira</td>\n",
       "    </tr>\n",
       "    <tr>\n",
       "      <th>296</th>\n",
       "      <td>Yuri Araújo</td>\n",
       "      <td>427.499.244-93</td>\n",
       "      <td>(18) 96264-7918</td>\n",
       "      <td>yuri.araújo@fakemail.com</td>\n",
       "      <td>@yuri.araújo</td>\n",
       "    </tr>\n",
       "    <tr>\n",
       "      <th>297</th>\n",
       "      <td>Pedro Henrique Oliveira</td>\n",
       "      <td>145.043.603-13</td>\n",
       "      <td>(28) 95807-8808</td>\n",
       "      <td>pedro.henrique@fakemail.com</td>\n",
       "      <td>@pedro.henrique</td>\n",
       "    </tr>\n",
       "    <tr>\n",
       "      <th>298</th>\n",
       "      <td>Catarina Rodrigues</td>\n",
       "      <td>644.307.975-37</td>\n",
       "      <td>(93) 94089-125</td>\n",
       "      <td>catarina.rodrigues@fakemail.com</td>\n",
       "      <td>@catarina.rodrigues</td>\n",
       "    </tr>\n",
       "    <tr>\n",
       "      <th>299</th>\n",
       "      <td>Alana Pires</td>\n",
       "      <td>227.275.179-72</td>\n",
       "      <td>(36) 94647-7265</td>\n",
       "      <td>alana.pires@fakemail.com</td>\n",
       "      <td>@alana.pires</td>\n",
       "    </tr>\n",
       "  </tbody>\n",
       "</table>\n",
       "<p>300 rows × 5 columns</p>\n",
       "</div>"
      ],
      "text/plain": [
       "                  nm_cliente    cpf_ficticio celular_ficticio  \\\n",
       "0       Ana Carolina Rezende  289.150.962-89  (52) 95801-4557   \n",
       "1           Rafaela Oliveira  759.684.359-43  (45) 91250-7290   \n",
       "2         João Miguel Castro  217.193.013-06  (43) 98001-9958   \n",
       "3            Emanuelly Gomes  971.550.916-32  (49) 93137-3445   \n",
       "4             Catarina Rocha  452.629.036-77  (38) 99359-9494   \n",
       "..                       ...             ...              ...   \n",
       "295           Murilo Moreira  629.212.321-61  (86) 97527-9687   \n",
       "296              Yuri Araújo  427.499.244-93  (18) 96264-7918   \n",
       "297  Pedro Henrique Oliveira  145.043.603-13  (28) 95807-8808   \n",
       "298       Catarina Rodrigues  644.307.975-37   (93) 94089-125   \n",
       "299              Alana Pires  227.275.179-72  (36) 94647-7265   \n",
       "\n",
       "                      email_ficticio   instagram_ficticio  \n",
       "0          ana.carolina@fakemail.com        @ana.carolina  \n",
       "1      rafaela.oliveira@fakemail.com    @rafaela.oliveira  \n",
       "2           joão.miguel@fakemail.com         @joão.miguel  \n",
       "3       emanuelly.gomes@fakemail.com     @emanuelly.gomes  \n",
       "4        catarina.rocha@fakemail.com      @catarina.rocha  \n",
       "..                               ...                  ...  \n",
       "295      murilo.moreira@fakemail.com      @murilo.moreira  \n",
       "296         yuri.araújo@fakemail.com         @yuri.araújo  \n",
       "297      pedro.henrique@fakemail.com      @pedro.henrique  \n",
       "298  catarina.rodrigues@fakemail.com  @catarina.rodrigues  \n",
       "299         alana.pires@fakemail.com         @alana.pires  \n",
       "\n",
       "[300 rows x 5 columns]"
      ]
     },
     "execution_count": 4,
     "metadata": {},
     "output_type": "execute_result"
    }
   ],
   "source": [
    "clients_data"
   ]
  },
  {
   "cell_type": "code",
   "execution_count": 5,
   "metadata": {},
   "outputs": [],
   "source": [
    "clients_data.to_excel('extracao_semanal_clientes.xlsx', index= False)"
   ]
  },
  {
   "cell_type": "code",
   "execution_count": 9,
   "metadata": {},
   "outputs": [
    {
     "name": "stdout",
     "output_type": "stream",
     "text": [
      "Requirement already satisfied: mailersend in c:\\users\\pedro\\anaconda3\\lib\\site-packages (0.5.8)\n",
      "Requirement already satisfied: requests<3.0.0,>=2.25.0 in c:\\users\\pedro\\anaconda3\\lib\\site-packages (from mailersend) (2.28.1)\n",
      "Requirement already satisfied: idna<4,>=2.5 in c:\\users\\pedro\\anaconda3\\lib\\site-packages (from requests<3.0.0,>=2.25.0->mailersend) (3.4)\n",
      "Requirement already satisfied: charset-normalizer<3,>=2 in c:\\users\\pedro\\anaconda3\\lib\\site-packages (from requests<3.0.0,>=2.25.0->mailersend) (2.0.4)\n",
      "Requirement already satisfied: certifi>=2017.4.17 in c:\\users\\pedro\\anaconda3\\lib\\site-packages (from requests<3.0.0,>=2.25.0->mailersend) (2022.12.7)\n",
      "Requirement already satisfied: urllib3<1.27,>=1.21.1 in c:\\users\\pedro\\anaconda3\\lib\\site-packages (from requests<3.0.0,>=2.25.0->mailersend) (1.26.14)\n",
      "Note: you may need to restart the kernel to use updated packages.\n"
     ]
    }
   ],
   "source": [
    "%pip install mailersend"
   ]
  },
  {
   "cell_type": "code",
   "execution_count": 11,
   "metadata": {},
   "outputs": [
    {
     "ename": "AttributeError",
     "evalue": "module 'mailersend' has no attribute 'NewApiClient'",
     "output_type": "error",
     "traceback": [
      "\u001b[1;31m---------------------------------------------------------------------------\u001b[0m",
      "\u001b[1;31mAttributeError\u001b[0m                            Traceback (most recent call last)",
      "Cell \u001b[1;32mIn[11], line 3\u001b[0m\n\u001b[0;32m      1\u001b[0m \u001b[38;5;28;01mimport\u001b[39;00m \u001b[38;5;21;01mmailersend\u001b[39;00m\n\u001b[1;32m----> 3\u001b[0m mailer \u001b[38;5;241m=\u001b[39m \u001b[43mmailersend\u001b[49m\u001b[38;5;241;43m.\u001b[39;49m\u001b[43mNewApiClient\u001b[49m()\n\u001b[0;32m      5\u001b[0m subject \u001b[38;5;241m=\u001b[39m \u001b[38;5;124m\"\u001b[39m\u001b[38;5;124mTeste\u001b[39m\u001b[38;5;124m\"\u001b[39m\n\u001b[0;32m      6\u001b[0m text \u001b[38;5;241m=\u001b[39m \u001b[38;5;124m\"\u001b[39m\u001b[38;5;124mTestando envio de e-mail.\u001b[39m\u001b[38;5;124m\"\u001b[39m\n",
      "\u001b[1;31mAttributeError\u001b[0m: module 'mailersend' has no attribute 'NewApiClient'"
     ]
    }
   ],
   "source": [
    "import mailersend\n",
    "\n",
    "mailer = mailersend.NewApiClient()\n",
    "\n",
    "subject = \"Teste\"\n",
    "text = \"Testando envio de e-mail.\"\n",
    "html = \"Testando envio de e-mail.\"\n",
    "\n",
    "my_mail = \"pedrosobrinho.physics@gmail.com\"\n",
    "subscriber_list = ['pedrosobrinho.physics@gmail.com']\n",
    "\n",
    "mailer.send(my_mail, subscriber_list, subject, html, text)"
   ]
  }
 ],
 "metadata": {
  "kernelspec": {
   "display_name": "base",
   "language": "python",
   "name": "python3"
  },
  "language_info": {
   "codemirror_mode": {
    "name": "ipython",
    "version": 3
   },
   "file_extension": ".py",
   "mimetype": "text/x-python",
   "name": "python",
   "nbconvert_exporter": "python",
   "pygments_lexer": "ipython3",
   "version": "3.10.9"
  }
 },
 "nbformat": 4,
 "nbformat_minor": 2
}
